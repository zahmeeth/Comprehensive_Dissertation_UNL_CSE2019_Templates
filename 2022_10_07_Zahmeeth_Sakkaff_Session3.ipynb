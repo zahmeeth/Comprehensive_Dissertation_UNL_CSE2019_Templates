{
  "nbformat": 4,
  "nbformat_minor": 0,
  "metadata": {
    "colab": {
      "provenance": [],
      "collapsed_sections": [],
      "authorship_tag": "ABX9TyMprYCP9Sn8tjp0iYsXCD/G",
      "include_colab_link": true
    },
    "kernelspec": {
      "name": "python3",
      "display_name": "Python 3"
    },
    "language_info": {
      "name": "python"
    }
  },
  "cells": [
    {
      "cell_type": "markdown",
      "metadata": {
        "id": "view-in-github",
        "colab_type": "text"
      },
      "source": [
        "<a href=\"https://colab.research.google.com/github/zahmeeth/Comprehensive_Dissertation_UNL_CSE2019_Templates/blob/master/2022_10_07_Zahmeeth_Sakkaff_Session3.ipynb\" target=\"_parent\"><img src=\"https://colab.research.google.com/assets/colab-badge.svg\" alt=\"Open In Colab\"/></a>"
      ]
    },
    {
      "cell_type": "markdown",
      "source": [
        "Home Work Session 3: Neural Networks in Tensorflow (10/07/22) by Zahmeeth Sakkaff\n",
        "\n",
        "CIFAR-10 dataset classification with CNNs"
      ],
      "metadata": {
        "id": "fjo9pccSYUjl"
      }
    },
    {
      "cell_type": "markdown",
      "source": [
        "Homework: improve the accuracy of this model\n",
        "\n",
        "I have changed the optimizer from sgd to adamax, lowering the batch_size 64, increasing the epochs 6 and correct lr would improve accuracy of the model where it increased from 58.69% to 66.25% with trial an error or all combination of these parameters can improve the accuracy"
      ],
      "metadata": {
        "id": "Q4sy3js9OWyT"
      }
    },
    {
      "cell_type": "code",
      "execution_count": 1,
      "metadata": {
        "id": "Ynl_PRykXH4W"
      },
      "outputs": [],
      "source": [
        "%matplotlib inline\n",
        "\n",
        "import tensorflow as tf\n",
        "\n",
        "import numpy\n",
        "import matplotlib.pyplot as plt\n",
        "import time"
      ]
    },
    {
      "cell_type": "markdown",
      "source": [
        "CIFAR-10 data set"
      ],
      "metadata": {
        "id": "IcODTxmQYwdz"
      }
    },
    {
      "cell_type": "code",
      "source": [
        "(x_train, y_train), (x_test, y_test) = tf.keras.datasets.cifar10.load_data()\n",
        "x_train = x_train.astype(numpy.float32)\n",
        "x_test  = x_test.astype(numpy.float32)\n",
        "\n",
        "x_train /= 255.\n",
        "x_test  /= 255.\n",
        "\n",
        "y_train = y_train.astype(numpy.int32)\n",
        "y_test  = y_test.astype(numpy.int32)"
      ],
      "metadata": {
        "colab": {
          "base_uri": "https://localhost:8080/"
        },
        "id": "0z64gzTfY0LK",
        "outputId": "245257de-a4ba-4cd5-d24d-be9ff820a5f4"
      },
      "execution_count": 2,
      "outputs": [
        {
          "output_type": "stream",
          "name": "stdout",
          "text": [
            "Downloading data from https://www.cs.toronto.edu/~kriz/cifar-10-python.tar.gz\n",
            "170500096/170498071 [==============================] - 2s 0us/step\n",
            "170508288/170498071 [==============================] - 2s 0us/step\n"
          ]
        }
      ]
    },
    {
      "cell_type": "markdown",
      "source": [
        "Convolutional neural network (CNN)"
      ],
      "metadata": {
        "id": "x6NqWcvnatCj"
      }
    },
    {
      "cell_type": "code",
      "source": [
        "class CIFAR10Classifier(tf.keras.models.Model):\n",
        "\n",
        "    def __init__(self, activation=tf.nn.tanh):\n",
        "        tf.keras.models.Model.__init__(self)\n",
        "\n",
        "        self.conv_1 = tf.keras.layers.Conv2D(32, [3, 3], activation='relu')\n",
        "        self.conv_2 = tf.keras.layers.Conv2D(64, [3, 3], activation='relu')\n",
        "        self.pool_3 = tf.keras.layers.MaxPooling2D(pool_size=(2, 2))\n",
        "        self.drop_4 = tf.keras.layers.Dropout(0.25)\n",
        "        self.dense_5 = tf.keras.layers.Dense(128, activation='relu')\n",
        "        self.drop_6 = tf.keras.layers.Dropout(0.5)\n",
        "        self.dense_7 = tf.keras.layers.Dense(10, activation='softmax')\n",
        "\n",
        "    def call(self, inputs):\n",
        "\n",
        "        x = self.conv_1(inputs)\n",
        "        x = self.conv_2(x)\n",
        "        x = self.pool_3(x)\n",
        "        x = self.drop_4(x)\n",
        "        x = tf.keras.layers.Flatten()(x)\n",
        "        x = self.dense_5(x)\n",
        "        x = self.drop_6(x)\n",
        "        x = self.dense_7(x)\n",
        "\n",
        "        return x"
      ],
      "metadata": {
        "id": "cMOxizt5aseR"
      },
      "execution_count": 6,
      "outputs": []
    },
    {
      "cell_type": "markdown",
      "source": [
        "Simple training"
      ],
      "metadata": {
        "id": "14zFDCWRa4Ab"
      }
    },
    {
      "cell_type": "code",
      "source": [
        "def train_network_concise(_batch_size, _n_training_epochs, _lr):\n",
        "\n",
        "    cnn_model = CIFAR10Classifier()\n",
        "\n",
        "    cnn_model.compile(loss=\"sparse_categorical_crossentropy\", optimizer=\"adamax\", metrics=['accuracy'])\n",
        "    \n",
        "    history = cnn_model.fit(x_train, y_train, batch_size=_batch_size, epochs=_n_training_epochs)\n",
        "    return history, cnn_model"
      ],
      "metadata": {
        "id": "eg6NGJTma4yJ"
      },
      "execution_count": 8,
      "outputs": []
    },
    {
      "cell_type": "code",
      "source": [
        "# This took 43 seconds per epoch on my laptop\n",
        "batch_size = 64\n",
        "epochs = 6\n",
        "lr = .05\n",
        "history, cnn_model = train_network_concise(batch_size, epochs, lr)"
      ],
      "metadata": {
        "colab": {
          "base_uri": "https://localhost:8080/"
        },
        "id": "n0ScfertbIjc",
        "outputId": "1f23680d-7a79-4d0a-d999-19da98b509c7"
      },
      "execution_count": 10,
      "outputs": [
        {
          "output_type": "stream",
          "name": "stdout",
          "text": [
            "Epoch 1/6\n",
            "782/782 [==============================] - 169s 215ms/step - loss: 1.6876 - accuracy: 0.3914\n",
            "Epoch 2/6\n",
            "782/782 [==============================] - 169s 216ms/step - loss: 1.3833 - accuracy: 0.5045\n",
            "Epoch 3/6\n",
            "782/782 [==============================] - 168s 215ms/step - loss: 1.2612 - accuracy: 0.5558\n",
            "Epoch 4/6\n",
            "782/782 [==============================] - 168s 215ms/step - loss: 1.1715 - accuracy: 0.5869\n",
            "Epoch 5/6\n",
            "782/782 [==============================] - 170s 217ms/step - loss: 1.0979 - accuracy: 0.6127\n",
            "Epoch 6/6\n",
            "782/782 [==============================] - 168s 215ms/step - loss: 1.0433 - accuracy: 0.6338\n"
          ]
        }
      ]
    },
    {
      "cell_type": "markdown",
      "source": [
        "Accuracy for test data. The model should be better than the non-convolutional model even if you're only patient enough for three epochs."
      ],
      "metadata": {
        "id": "Pi4hm0b-MR7E"
      }
    },
    {
      "cell_type": "code",
      "source": [
        "plt.figure(figsize=(5,3))\n",
        "plt.plot(history.epoch,history.history['loss'])\n",
        "plt.title('loss')\n",
        "\n",
        "plt.figure(figsize=(5,3))\n",
        "plt.plot(history.epoch,history.history['accuracy'])\n",
        "plt.title('accuracy');"
      ],
      "metadata": {
        "colab": {
          "base_uri": "https://localhost:8080/",
          "height": 437
        },
        "id": "PvONw0gNMVqQ",
        "outputId": "2e439421-5695-46e7-de42-1c5afd3620f3"
      },
      "execution_count": 11,
      "outputs": [
        {
          "output_type": "display_data",
          "data": {
            "text/plain": [
              "<Figure size 360x216 with 1 Axes>"
            ],
            "image/png": "[encoded data removed]"
          },
          "metadata": {
            "needs_background": "light"
          }
        },
        {
          "output_type": "display_data",
          "data": {
            "text/plain": [
              "<Figure size 360x216 with 1 Axes>"
            ],
            "image/png": "[encoded data removed]"
          },
          "metadata": {
            "needs_background": "light"
          }
        }
      ]
    },
    {
      "cell_type": "markdown",
      "source": [
        "Inference\n",
        "\n",
        "With enough training epochs, the test accuracy should exceed 96.53%.\n",
        "You can compare your result with the state-of-the art here."
      ],
      "metadata": {
        "id": "qHqH_DkAMde4"
      }
    },
    {
      "cell_type": "code",
      "source": [
        "%%time\n",
        "x_test_reshaped = numpy.expand_dims(x_test, -1)\n",
        "scores = cnn_model.evaluate(x_test, y_test, verbose=2)\n",
        "print(\"%s: %.2f%%\" % (cnn_model.metrics_names[1], scores[1]*100))"
      ],
      "metadata": {
        "colab": {
          "base_uri": "https://localhost:8080/"
        },
        "id": "JcOI6OZUMxAO",
        "outputId": "404b7ea9-8c75-4360-97f3-93b0aaae84e4"
      },
      "execution_count": 12,
      "outputs": [
        {
          "output_type": "stream",
          "name": "stdout",
          "text": [
            "313/313 - 14s - loss: 0.9610 - accuracy: 0.6625 - 14s/epoch - 45ms/step\n",
            "accuracy: 66.25%\n",
            "CPU times: user 15.5 s, sys: 186 ms, total: 15.7 s\n",
            "Wall time: 15.4 s\n"
          ]
        }
      ]
    },
    {
      "cell_type": "markdown",
      "source": [
        "We can also again check the confusion matrix"
      ],
      "metadata": {
        "id": "y0W4m0CxNVMV"
      }
    },
    {
      "cell_type": "code",
      "source": [
        "from sklearn.metrics import confusion_matrix\n",
        "\n",
        "print('Confusion matrix (rows: true classes; columns: predicted classes):'); print()\n",
        "predictions = cnn_model.predict(x_test)\n",
        "cm=confusion_matrix(y_test, numpy.argmax(predictions, axis=1), labels=list(range(10)))\n",
        "print(cm); print()\n",
        "\n",
        "print('Classification accuracy for each class:'); print()\n",
        "for i,j in enumerate(cm.diagonal()/cm.sum(axis=1)): print(\"%d: %.4f\" % (i,j))"
      ],
      "metadata": {
        "colab": {
          "base_uri": "https://localhost:8080/"
        },
        "id": "_uwyvZTGNWOv",
        "outputId": "39ec4904-4eec-4004-aadb-db982249fc67"
      },
      "execution_count": 13,
      "outputs": [
        {
          "output_type": "stream",
          "name": "stdout",
          "text": [
            "Confusion matrix (rows: true classes; columns: predicted classes):\n",
            "\n",
            "[[684  16  85  22  21   4  18   9  97  44]\n",
            " [ 25 732  11  11   4   3  19   8  42 145]\n",
            " [ 61   4 558  54  88  82  93  32  12  16]\n",
            " [ 18   8 101 421  76 166 130  42  15  23]\n",
            " [ 28   2 119  53 581  23  86  90  15   3]\n",
            " [ 10   2 106 166  49 560  38  56   6   7]\n",
            " [  4   3  56  41  42  16 821   8   3   6]\n",
            " [ 16   2  48  40  67  69   8 732   1  17]\n",
            " [ 78  56  17  11   6  10  16   2 764  40]\n",
            " [ 38  77  11  12  10   7  13  24  36 772]]\n",
            "\n",
            "Classification accuracy for each class:\n",
            "\n",
            "0: 0.6840\n",
            "1: 0.7320\n",
            "2: 0.5580\n",
            "3: 0.4210\n",
            "4: 0.5810\n",
            "5: 0.5600\n",
            "6: 0.8210\n",
            "7: 0.7320\n",
            "8: 0.7640\n",
            "9: 0.7720\n"
          ]
        }
      ]
    },
    {
      "cell_type": "markdown",
      "source": [
        "More verbose training\n",
        "This approach explicitly handles the looping over data. It will be helpful in future weeks for diving in and optimizing"
      ],
      "metadata": {
        "id": "GwoyjzbsNlE7"
      }
    },
    {
      "cell_type": "code",
      "source": [
        "def compute_loss(y_true, y_pred):\n",
        "    # if labels are integers, use sparse categorical crossentropy\n",
        "    # network's final layer is softmax, so from_logtis=False\n",
        "    scce = tf.keras.losses.SparseCategoricalCrossentropy(from_logits=False)\n",
        "    # if labels are one-hot encoded, use standard crossentropy\n",
        "\n",
        "    return scce(y_true, y_pred)  "
      ],
      "metadata": {
        "id": "Ckcl3Y9fNmza"
      },
      "execution_count": 14,
      "outputs": []
    },
    {
      "cell_type": "code",
      "source": [
        "def forward_pass(model, batch_data, y_true):\n",
        "    y_pred = model(batch_data)\n",
        "    loss = compute_loss(y_true, y_pred)\n",
        "    return loss"
      ],
      "metadata": {
        "id": "Egz_bUK3Nv3f"
      },
      "execution_count": 15,
      "outputs": []
    },
    {
      "cell_type": "code",
      "source": [
        "# Here is a function that will manage the training loop for us:\n",
        "\n",
        "def train_loop(batch_size, n_training_epochs, model, opt):\n",
        "    \n",
        "    @tf.function()\n",
        "    def train_iteration(data, y_true, model, opt):\n",
        "        with tf.GradientTape() as tape:\n",
        "            loss = forward_pass(model, data, y_true)\n",
        "\n",
        "        trainable_vars = model.trainable_variables\n",
        "\n",
        "        # Apply the update to the network (one at a time):\n",
        "        grads = tape.gradient(loss, trainable_vars)\n",
        "\n",
        "        opt.apply_gradients(zip(grads, trainable_vars))\n",
        "        return loss\n",
        "\n",
        "    for i_epoch in range(n_training_epochs):\n",
        "        print(\"beginning epoch %d\" % i_epoch)\n",
        "        start = time.time()\n",
        "\n",
        "        epoch_steps = int(50000/batch_size)\n",
        "        dataset.shuffle(50000) # Shuffle the whole dataset in memory\n",
        "        batches = dataset.batch(batch_size=batch_size, drop_remainder=True)\n",
        "        \n",
        "        for i_batch, (batch_data, y_true) in enumerate(batches):\n",
        "            batch_data = tf.reshape(batch_data, [-1, 32, 32, 3])\n",
        "            loss = train_iteration(batch_data, y_true, model, opt)\n",
        "            \n",
        "        end = time.time()\n",
        "        print(\"took %1.1f seconds for epoch #%d\" % (end-start, i_epoch))"
      ],
      "metadata": {
        "id": "3VOO6BIDN2h0"
      },
      "execution_count": 16,
      "outputs": []
    },
    {
      "cell_type": "code",
      "source": [
        "def train_network(_batch_size, _n_training_epochs, _lr):\n",
        "\n",
        "    cifar_model = CIFAR10Classifier()\n",
        "\n",
        "    opt = tf.keras.optimizers.Adam(_lr)\n",
        "\n",
        "    train_loop(_batch_size, _n_training_epochs, cifar_model, opt)"
      ],
      "metadata": {
        "id": "MReHhKgKOIXA"
      },
      "execution_count": 17,
      "outputs": []
    },
    {
      "cell_type": "code",
      "source": [
        "dataset = tf.data.Dataset.from_tensor_slices((x_train, y_train))\n",
        "dataset.shuffle(50000)\n",
        "\n",
        "batch_size = 64\n",
        "epochs = 6\n",
        "lr = .05\n",
        "train_network(batch_size, epochs, lr)"
      ],
      "metadata": {
        "colab": {
          "base_uri": "https://localhost:8080/"
        },
        "id": "x6fmD1HHOLf7",
        "outputId": "922d1788-155b-4d0b-9577-b9b454741a1d"
      },
      "execution_count": null,
      "outputs": [
        {
          "output_type": "stream",
          "name": "stdout",
          "text": [
            "beginning epoch 0\n",
            "took 161.6 seconds for epoch #0\n",
            "beginning epoch 1\n",
            "took 169.7 seconds for epoch #1\n",
            "beginning epoch 2\n",
            "took 153.8 seconds for epoch #2\n",
            "beginning epoch 3\n",
            "took 156.9 seconds for epoch #3\n",
            "beginning epoch 4\n"
          ]
        }
      ]
    }
  ]
}